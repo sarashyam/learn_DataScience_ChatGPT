{
 "cells": [
  {
   "cell_type": "code",
   "execution_count": 8,
   "id": "1f9b6137",
   "metadata": {},
   "outputs": [
    {
     "name": "stdout",
     "output_type": "stream",
     "text": [
      "       Name   Age Department  Salary  Performance_Score  Years_At_Company\n",
      "0      Mona  34.0  Marketing   96153               99.0                 5\n",
      "1      Omar  38.0    Finance   76404               98.0                10\n",
      "2     Fahad  29.0      Sales   36309               84.0                 2\n",
      "3      Lina  28.0         IT  114675               81.0                 0\n",
      "4      Mona  29.0      Sales   98326               93.0                 4\n",
      "...     ...   ...        ...     ...                ...               ...\n",
      "4995   Mona  30.0  Marketing   82926               89.0                 4\n",
      "4996   Omar  25.0      Sales  109543                NaN                14\n",
      "4997   Lina  25.0  Marketing   54300               92.0                 0\n",
      "4998   Zara  27.0      Sales  111711               74.0                12\n",
      "4999   Omar  34.0      Sales  101509               88.0                 4\n",
      "\n",
      "[5000 rows x 6 columns]\n",
      "<class 'pandas.core.frame.DataFrame'>\n",
      "RangeIndex: 5000 entries, 0 to 4999\n",
      "Data columns (total 6 columns):\n",
      " #   Column             Non-Null Count  Dtype  \n",
      "---  ------             --------------  -----  \n",
      " 0   Name               5000 non-null   object \n",
      " 1   Age                4800 non-null   float64\n",
      " 2   Department         5000 non-null   object \n",
      " 3   Salary             5000 non-null   int64  \n",
      " 4   Performance_Score  4850 non-null   float64\n",
      " 5   Years_At_Company   5000 non-null   int64  \n",
      "dtypes: float64(2), int64(2), object(2)\n",
      "memory usage: 234.5+ KB\n"
     ]
    },
    {
     "data": {
      "text/plain": [
       "Name                   0\n",
       "Age                  200\n",
       "Department             0\n",
       "Salary                 0\n",
       "Performance_Score    150\n",
       "Years_At_Company       0\n",
       "dtype: int64"
      ]
     },
     "execution_count": 8,
     "metadata": {},
     "output_type": "execute_result"
    }
   ],
   "source": [
    "# 1. Load & Quick Overview\n",
    "# Load large_employee_data.csv\n",
    "\n",
    "# Show:\n",
    "\n",
    "# .head(), .info(), .describe()\n",
    "\n",
    "# Missing value count for each column\n",
    "\n",
    "\n",
    "import pandas as pd\n",
    "\n",
    "df = pd.read_csv('large_employee_data.csv')\n",
    "print(df)\n",
    "df.head(10)\n",
    "df.info()\n",
    "df.describe()\n",
    "df.isnull().sum()\n",
    "\n"
   ]
  },
  {
   "cell_type": "code",
   "execution_count": 12,
   "id": "77175f9a",
   "metadata": {},
   "outputs": [
    {
     "data": {
      "text/plain": [
       "Name                   0\n",
       "Age                    0\n",
       "Department             0\n",
       "Salary                 0\n",
       "Performance_Score    150\n",
       "Years_At_Company       0\n",
       "dtype: int64"
      ]
     },
     "execution_count": 12,
     "metadata": {},
     "output_type": "execute_result"
    }
   ],
   "source": [
    "# Fill missing Age with the median (less sensitive to outliers than mean)\n",
    "\n",
    "df[\"Age\"] = df[\"Age\"].fillna(df[\"Age\"].median())\n",
    "df.isnull().sum()"
   ]
  },
  {
   "cell_type": "code",
   "execution_count": 14,
   "id": "9aa93f9f",
   "metadata": {},
   "outputs": [
    {
     "name": "stdout",
     "output_type": "stream",
     "text": [
      "Name                 0\n",
      "Age                  0\n",
      "Department           0\n",
      "Salary               0\n",
      "Performance_Score    0\n",
      "Years_At_Company     0\n",
      "dtype: int64\n"
     ]
    }
   ],
   "source": [
    "df.dropna(subset=\"Performance_Score\",inplace = True)\n",
    "print(df.isnull().sum())"
   ]
  },
  {
   "cell_type": "code",
   "execution_count": 18,
   "id": "ab0c7420",
   "metadata": {},
   "outputs": [
    {
     "name": "stdout",
     "output_type": "stream",
     "text": [
      "<class 'pandas.core.frame.DataFrame'>\n",
      "Index: 4850 entries, 0 to 4999\n",
      "Data columns (total 6 columns):\n",
      " #   Column             Non-Null Count  Dtype  \n",
      "---  ------             --------------  -----  \n",
      " 0   Name               4850 non-null   object \n",
      " 1   Age                4850 non-null   float64\n",
      " 2   Department         4850 non-null   object \n",
      " 3   Salary             4850 non-null   int64  \n",
      " 4   Performance_Score  4850 non-null   float64\n",
      " 5   Years_At_Company   4850 non-null   int64  \n",
      "dtypes: float64(2), int64(2), object(2)\n",
      "memory usage: 265.2+ KB\n"
     ]
    }
   ],
   "source": [
    "df.info()"
   ]
  },
  {
   "cell_type": "code",
   "execution_count": null,
   "id": "6828a717",
   "metadata": {},
   "outputs": [],
   "source": []
  }
 ],
 "metadata": {
  "kernelspec": {
   "display_name": "Python 3",
   "language": "python",
   "name": "python3"
  },
  "language_info": {
   "codemirror_mode": {
    "name": "ipython",
    "version": 3
   },
   "file_extension": ".py",
   "mimetype": "text/x-python",
   "name": "python",
   "nbconvert_exporter": "python",
   "pygments_lexer": "ipython3",
   "version": "3.12.0"
  }
 },
 "nbformat": 4,
 "nbformat_minor": 5
}
