{
 "cells": [
  {
   "cell_type": "code",
   "execution_count": 16,
   "id": "2c8912e8",
   "metadata": {},
   "outputs": [
    {
     "name": "stdout",
     "output_type": "stream",
     "text": [
      "[[[  1   2   3   9   6  56   5  23 565]]]\n",
      "[[1 3]\n",
      " [5 6]]\n"
     ]
    }
   ],
   "source": [
    "import numpy as np\n",
    "# numpy create syntax\n",
    "# numpy.array(object, dtype = None, copy = True, order = None, subok = False, ndmin = 0)\n",
    "\n",
    "\n",
    "# 1 d array \n",
    "d1 = np.array([1,2,3,9,6,56,5,23,565],ndmin=3)  # 1 block 1 row and 5 columns\n",
    "print(d1)\n",
    "\n",
    "# 2d array\n",
    "d2 = np.array([[1,3],[5,6]])\n",
    "print(d2)"
   ]
  },
  {
   "cell_type": "code",
   "execution_count": 10,
   "id": "47ca4c03",
   "metadata": {},
   "outputs": [
    {
     "name": "stdout",
     "output_type": "stream",
     "text": [
      "3\n",
      "2\n",
      "12\n"
     ]
    }
   ],
   "source": [
    "# we can get the how much dimension the array is by \n",
    "print(d1.ndim)\n",
    "print(d2.ndim)\n",
    "\n",
    "print(d1.nbytes)"
   ]
  },
  {
   "cell_type": "code",
   "execution_count": 9,
   "id": "1bdbf815",
   "metadata": {},
   "outputs": [
    {
     "name": "stdout",
     "output_type": "stream",
     "text": [
      "(1, 1, 3)\n",
      "(2, 2)\n"
     ]
    }
   ],
   "source": [
    "# SHAPE of the array\n",
    "print(d1.shape)\n",
    "print(d2.shape)"
   ]
  },
  {
   "cell_type": "code",
   "execution_count": null,
   "id": "94d277a6",
   "metadata": {},
   "outputs": [
    {
     "data": {
      "text/plain": [
       "array([  1,   3,   6,   5, 565])"
      ]
     },
     "execution_count": 18,
     "metadata": {},
     "output_type": "execute_result"
    }
   ],
   "source": [
    "# accessing element is basically the row and column\n",
    "d1[0,0,2]\n",
    "d1[0,0,0::2]  # start end step"
   ]
  },
  {
   "cell_type": "code",
   "execution_count": 20,
   "id": "a66a7541",
   "metadata": {},
   "outputs": [
    {
     "data": {
      "text/plain": [
       "array([3, 6])"
      ]
     },
     "execution_count": 20,
     "metadata": {},
     "output_type": "execute_result"
    }
   ],
   "source": [
    "d2[:,1]"
   ]
  },
  {
   "cell_type": "code",
   "execution_count": 21,
   "id": "65feaa62",
   "metadata": {},
   "outputs": [
    {
     "data": {
      "text/plain": [
       "array([0., 0., 0., 0., 0.])"
      ]
     },
     "execution_count": 21,
     "metadata": {},
     "output_type": "execute_result"
    }
   ],
   "source": [
    "# Initializing \n",
    "np.zeros(5)"
   ]
  },
  {
   "cell_type": "code",
   "execution_count": null,
   "id": "b60d75a4",
   "metadata": {},
   "outputs": [
    {
     "data": {
      "text/plain": [
       "array([[[0., 0.],\n",
       "        [0., 0.]],\n",
       "\n",
       "       [[0., 0.],\n",
       "        [0., 0.]],\n",
       "\n",
       "       [[0., 0.],\n",
       "        [0., 0.]]])"
      ]
     },
     "execution_count": 24,
     "metadata": {},
     "output_type": "execute_result"
    }
   ],
   "source": [
    "np.zeros((3,2,2)) # np.ones()"
   ]
  },
  {
   "cell_type": "code",
   "execution_count": 25,
   "id": "500b15d5",
   "metadata": {},
   "outputs": [
    {
     "data": {
      "text/plain": [
       "array([[5, 5, 5],\n",
       "       [5, 5, 5]])"
      ]
     },
     "execution_count": 25,
     "metadata": {},
     "output_type": "execute_result"
    }
   ],
   "source": [
    "np.full((2,3),5) # shape of the array and the value"
   ]
  },
  {
   "cell_type": "code",
   "execution_count": 38,
   "id": "dbaddd6d",
   "metadata": {},
   "outputs": [
    {
     "name": "stdout",
     "output_type": "stream",
     "text": [
      "[[1. 1. 1.]\n",
      " [1. 1. 1.]]\n",
      "[[1. 2. 3.]\n",
      " [1. 1. 1.]]\n",
      "[[2 3]\n",
      " [4 6]\n",
      " [1 3]]\n",
      "6\n",
      "[[11. 12. 13.]\n",
      " [11. 11. 11.]]\n"
     ]
    }
   ],
   "source": [
    "a = np.ones((2,3))\n",
    "print(a)\n",
    "a[0, 0:] = [1,2,3] \n",
    "print(a)\n",
    "\n",
    "b = np.array([[2,3],[4,6],[1,3]])\n",
    "print(b)\n",
    "np.matmul(a,b)\n",
    "print(b.size)\n",
    "\n",
    "print(a+10)"
   ]
  },
  {
   "cell_type": "code",
   "execution_count": 47,
   "id": "afa4c13b",
   "metadata": {},
   "outputs": [
    {
     "name": "stdout",
     "output_type": "stream",
     "text": [
      "[ 0  1  2  3  4  5  6  7  8  9 10]\n",
      "[ 0  3  6  9 12 15 18 21 24 27 30]\n",
      "[ 0  2  4  6  8 10]\n",
      "[ 0  2  4  6  8 10]\n",
      "[[0.92305087 0.28565251 0.6953608 ]\n",
      " [0.31572536 0.4111602  0.19796612]\n",
      " [0.32707898 0.23679122 0.1209438 ]]\n"
     ]
    }
   ],
   "source": [
    "# Challenge\n",
    "# 🎯 Mini Challenge (Practice):\n",
    "# Create a 1D NumPy array of numbers from 1 to 10.\n",
    "\n",
    "# Multiply all numbers by 3.\n",
    "\n",
    "# Extract only the even numbers using slicing or masking.\n",
    "\n",
    "# Create a 2D NumPy array (3x3) with random numbers between 0 and 1.\n",
    "\n",
    "arr = np.arange(0,11,1)\n",
    "print(arr)\n",
    "\n",
    "print(arr * 3)\n",
    "\n",
    "print(arr[0::2])\n",
    "\n",
    "print(arr[arr %2 ==0])\n",
    "\n",
    "ar1 = np.random.rand(3,3)\n",
    "print(ar1)"
   ]
  },
  {
   "cell_type": "code",
   "execution_count": null,
   "id": "d1681c94",
   "metadata": {},
   "outputs": [],
   "source": []
  },
  {
   "cell_type": "code",
   "execution_count": null,
   "id": "f59c9c18",
   "metadata": {},
   "outputs": [],
   "source": []
  }
 ],
 "metadata": {
  "kernelspec": {
   "display_name": "Python 3",
   "language": "python",
   "name": "python3"
  },
  "language_info": {
   "codemirror_mode": {
    "name": "ipython",
    "version": 3
   },
   "file_extension": ".py",
   "mimetype": "text/x-python",
   "name": "python",
   "nbconvert_exporter": "python",
   "pygments_lexer": "ipython3",
   "version": "3.12.0"
  }
 },
 "nbformat": 4,
 "nbformat_minor": 5
}
