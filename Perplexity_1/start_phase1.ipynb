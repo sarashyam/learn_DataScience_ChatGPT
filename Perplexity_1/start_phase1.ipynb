{
 "cells": [
  {
   "cell_type": "code",
   "execution_count": 2,
   "id": "6e8809d1",
   "metadata": {},
   "outputs": [
    {
     "name": "stdout",
     "output_type": "stream",
     "text": [
      "hello\n"
     ]
    }
   ],
   "source": [
    "print(\"hello\")"
   ]
  },
  {
   "cell_type": "code",
   "execution_count": 3,
   "id": "f8165389",
   "metadata": {},
   "outputs": [],
   "source": [
    "import pandas as pd"
   ]
  },
  {
   "cell_type": "code",
   "execution_count": 5,
   "id": "269a1420",
   "metadata": {},
   "outputs": [
    {
     "name": "stdout",
     "output_type": "stream",
     "text": [
      "       #                   Name   Type 1  Type 2  HP  Attack  Defense  \\\n",
      "0      1              Bulbasaur    Grass  Poison  45      49       49   \n",
      "1      2                Ivysaur    Grass  Poison  60      62       63   \n",
      "2      3               Venusaur    Grass  Poison  80      82       83   \n",
      "3      3  VenusaurMega Venusaur    Grass  Poison  80     100      123   \n",
      "4      4             Charmander     Fire     NaN  39      52       43   \n",
      "..   ...                    ...      ...     ...  ..     ...      ...   \n",
      "795  719                Diancie     Rock   Fairy  50     100      150   \n",
      "796  719    DiancieMega Diancie     Rock   Fairy  50     160      110   \n",
      "797  720    HoopaHoopa Confined  Psychic   Ghost  80     110       60   \n",
      "798  720     HoopaHoopa Unbound  Psychic    Dark  80     160       60   \n",
      "799  721              Volcanion     Fire   Water  80     110      120   \n",
      "\n",
      "     Sp. Atk  Sp. Def  Speed  Generation  Legendary  \n",
      "0         65       65     45           1      False  \n",
      "1         80       80     60           1      False  \n",
      "2        100      100     80           1      False  \n",
      "3        122      120     80           1      False  \n",
      "4         60       50     65           1      False  \n",
      "..       ...      ...    ...         ...        ...  \n",
      "795      100      150     50           6       True  \n",
      "796      160      110    110           6       True  \n",
      "797      150      130     70           6       True  \n",
      "798      170      130     80           6       True  \n",
      "799      130       90     70           6       True  \n",
      "\n",
      "[800 rows x 12 columns]\n"
     ]
    }
   ],
   "source": [
    "df = pd.read_csv(\"pokemon_data.csv\")\n",
    "print(df)"
   ]
  },
  {
   "cell_type": "code",
   "execution_count": 7,
   "id": "b0a88939",
   "metadata": {},
   "outputs": [
    {
     "name": "stdout",
     "output_type": "stream",
     "text": [
      "   #                   Name Type 1  Type 2  HP  Attack  Defense  Sp. Atk  \\\n",
      "0  1              Bulbasaur  Grass  Poison  45      49       49       65   \n",
      "1  2                Ivysaur  Grass  Poison  60      62       63       80   \n",
      "2  3               Venusaur  Grass  Poison  80      82       83      100   \n",
      "3  3  VenusaurMega Venusaur  Grass  Poison  80     100      123      122   \n",
      "4  4             Charmander   Fire     NaN  39      52       43       60   \n",
      "\n",
      "   Sp. Def  Speed  Generation  Legendary  \n",
      "0       65     45           1      False  \n",
      "1       80     60           1      False  \n",
      "2      100     80           1      False  \n",
      "3      120     80           1      False  \n",
      "4       50     65           1      False  \n"
     ]
    }
   ],
   "source": [
    "print(df.head())"
   ]
  },
  {
   "cell_type": "code",
   "execution_count": 9,
   "id": "6f4ad9e6",
   "metadata": {},
   "outputs": [
    {
     "name": "stdout",
     "output_type": "stream",
     "text": [
      "Index(['#', 'Name', 'Type 1', 'Type 2', 'HP', 'Attack', 'Defense', 'Sp. Atk',\n",
      "       'Sp. Def', 'Speed', 'Generation', 'Legendary'],\n",
      "      dtype='object')\n"
     ]
    }
   ],
   "source": [
    "# reading header\n",
    "print(df.columns)"
   ]
  },
  {
   "cell_type": "code",
   "execution_count": null,
   "id": "ffa0889c",
   "metadata": {},
   "outputs": [],
   "source": [
    "# read each column\n",
    "print(df[\"Speed\"])\n",
    "\n",
    "# for multiple  columns \n",
    "print(df[[\"Name\",\"HP\",\"Attack\"]][0:10])"
   ]
  },
  {
   "cell_type": "code",
   "execution_count": 15,
   "id": "7a981c13",
   "metadata": {},
   "outputs": [
    {
     "name": "stdout",
     "output_type": "stream",
     "text": [
      "#                   2\n",
      "Name          Ivysaur\n",
      "Type 1          Grass\n",
      "Type 2         Poison\n",
      "HP                 60\n",
      "Attack             62\n",
      "Defense            63\n",
      "Sp. Atk            80\n",
      "Sp. Def            80\n",
      "Speed              60\n",
      "Generation          1\n",
      "Legendary       False\n",
      "Name: 1, dtype: object\n",
      "     #                       Name Type 1  Type 2  HP  Attack  Defense  \\\n",
      "2    3                   Venusaur  Grass  Poison  80      82       83   \n",
      "3    3      VenusaurMega Venusaur  Grass  Poison  80     100      123   \n",
      "4    4                 Charmander   Fire     NaN  39      52       43   \n",
      "5    5                 Charmeleon   Fire     NaN  58      64       58   \n",
      "6    6                  Charizard   Fire  Flying  78      84       78   \n",
      "7    6  CharizardMega Charizard X   Fire  Dragon  78     130      111   \n",
      "8    6  CharizardMega Charizard Y   Fire  Flying  78     104       78   \n",
      "9    7                   Squirtle  Water     NaN  44      48       65   \n",
      "10   8                  Wartortle  Water     NaN  59      63       80   \n",
      "11   9                  Blastoise  Water     NaN  79      83      100   \n",
      "12   9    BlastoiseMega Blastoise  Water     NaN  79     103      120   \n",
      "13  10                   Caterpie    Bug     NaN  45      30       35   \n",
      "14  11                    Metapod    Bug     NaN  50      20       55   \n",
      "15  12                 Butterfree    Bug  Flying  60      45       50   \n",
      "\n",
      "    Sp. Atk  Sp. Def  Speed  Generation  Legendary  \n",
      "2       100      100     80           1      False  \n",
      "3       122      120     80           1      False  \n",
      "4        60       50     65           1      False  \n",
      "5        80       65     80           1      False  \n",
      "6       109       85    100           1      False  \n",
      "7       130       85    100           1      False  \n",
      "8       159      115    100           1      False  \n",
      "9        50       64     43           1      False  \n",
      "10       65       80     58           1      False  \n",
      "11       85      105     78           1      False  \n",
      "12      135      115     78           1      False  \n",
      "13       20       20     45           1      False  \n",
      "14       25       25     30           1      False  \n",
      "15       90       80     70           1      False  \n"
     ]
    }
   ],
   "source": [
    "# to read the row\n",
    "print(df.iloc[1])\n",
    "\n",
    "print(df.iloc[2:16])"
   ]
  },
  {
   "cell_type": "code",
   "execution_count": null,
   "id": "5822fefc",
   "metadata": {},
   "outputs": [
    {
     "data": {
      "text/plain": [
       "'Grass'"
      ]
     },
     "execution_count": 17,
     "metadata": {},
     "output_type": "execute_result"
    }
   ],
   "source": [
    "# Read specific location ---- Row , Column\n",
    "df.iloc[3,2]"
   ]
  },
  {
   "cell_type": "code",
   "execution_count": null,
   "id": "aeb71cd9",
   "metadata": {},
   "outputs": [],
   "source": []
  }
 ],
 "metadata": {
  "kernelspec": {
   "display_name": "Python 3",
   "language": "python",
   "name": "python3"
  },
  "language_info": {
   "codemirror_mode": {
    "name": "ipython",
    "version": 3
   },
   "file_extension": ".py",
   "mimetype": "text/x-python",
   "name": "python",
   "nbconvert_exporter": "python",
   "pygments_lexer": "ipython3",
   "version": "3.12.0"
  }
 },
 "nbformat": 4,
 "nbformat_minor": 5
}
